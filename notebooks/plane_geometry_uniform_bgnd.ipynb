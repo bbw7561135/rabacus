{
 "metadata": {
  "name": "",
  "signature": "sha256:2f8e790a598effd4c0f9007df39dd13a2b53e944d15bfbb62bff6e723ce4737e"
 },
 "nbformat": 3,
 "nbformat_minor": 0,
 "worksheets": [
  {
   "cells": [
    {
     "cell_type": "code",
     "collapsed": false,
     "input": [
      "from sympy import *\n",
      "import rabacus as ra"
     ],
     "language": "python",
     "metadata": {},
     "outputs": [],
     "prompt_number": 1
    },
    {
     "cell_type": "code",
     "collapsed": false,
     "input": [
      "u,t,a,b = symbols('u,t,a,b', real=True, positive=True)"
     ],
     "language": "python",
     "metadata": {},
     "outputs": [],
     "prompt_number": 2
    },
    {
     "cell_type": "markdown",
     "metadata": {},
     "source": [
      "$\\int_0^{2\\pi} d\\phi \\int_0^{\\pi/2} \\sin \\theta d\\theta \\exp(-\\tau/\\cos \\theta)$\n",
      "\n",
      "let $\\mu = \\cos \\theta$ then $d\\mu = -\\sin \\theta d\\theta$\n",
      "\n",
      "$2\\pi \\int_1^{0} (-d\\mu) \\exp(-\\tau/\\mu)$\n",
      "\n",
      "$2\\pi \\int_0^{1} d\\mu \\exp(-\\tau/\\mu)$\n",
      "\n",
      "$2\\pi [\\tau {\\rm Ei(-\\tau}) + \\exp(-\\tau)]$"
     ]
    },
    {
     "cell_type": "code",
     "collapsed": false,
     "input": [
      "integrate( exp(-t/u), (u) )"
     ],
     "language": "python",
     "metadata": {},
     "outputs": [
      {
       "metadata": {},
       "output_type": "pyout",
       "prompt_number": 3,
       "text": [
        "t*Ei(t*exp_polar(I*pi)/u) + u*exp(-t/u)"
       ]
      }
     ],
     "prompt_number": 3
    },
    {
     "cell_type": "code",
     "collapsed": false,
     "input": [
      "N(Ei(-200000.0)) "
     ],
     "language": "python",
     "metadata": {},
     "outputs": [
      {
       "metadata": {},
       "output_type": "pyout",
       "prompt_number": 4,
       "text": [
        "-6.34727306626247e-86865 - 0.e-124*I"
       ]
      }
     ],
     "prompt_number": 4
    },
    {
     "cell_type": "code",
     "collapsed": false,
     "input": [
      "ra.f2py.Eix(1.0e-10)"
     ],
     "language": "python",
     "metadata": {},
     "outputs": [
      {
       "metadata": {},
       "output_type": "pyout",
       "prompt_number": 8,
       "text": [
        "-22.448635264938925"
       ]
      }
     ],
     "prompt_number": 8
    },
    {
     "cell_type": "code",
     "collapsed": false,
     "input": [
      "N(exp(-1000))"
     ],
     "language": "python",
     "metadata": {},
     "outputs": [
      {
       "metadata": {},
       "output_type": "pyout",
       "prompt_number": 9,
       "text": [
        "5.07595889754946e-435"
       ]
      }
     ],
     "prompt_number": 9
    },
    {
     "cell_type": "code",
     "collapsed": false,
     "input": [],
     "language": "python",
     "metadata": {},
     "outputs": []
    }
   ],
   "metadata": {}
  }
 ]
}